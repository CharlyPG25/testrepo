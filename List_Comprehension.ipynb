{
  "nbformat": 4,
  "nbformat_minor": 0,
  "metadata": {
    "colab": {
      "provenance": []
    },
    "kernelspec": {
      "name": "python3",
      "display_name": "Python 3"
    },
    "language_info": {
      "name": "python"
    }
  },
  "cells": [
    {
      "cell_type": "markdown",
      "source": [
        "# List Comprehension in Python\n",
        "\n",
        "**ComprehensionVariable = [expression for items in list]**"
      ],
      "metadata": {
        "id": "vq6PNz5Msrtb"
      }
    },
    {
      "cell_type": "code",
      "execution_count": null,
      "metadata": {
        "colab": {
          "base_uri": "https://localhost:8080/"
        },
        "id": "wjqKIpIDsc7Q",
        "outputId": "56ba9768-5e01-41e0-869b-a78d12184ec5"
      },
      "outputs": [
        {
          "output_type": "stream",
          "name": "stdout",
          "text": [
            "[3, 6, 9, 12, 15, 18, 21, 24, 27, 30]\n",
            "[3, 6, 9, 12, 15, 18, 21, 24, 27, 30]\n"
          ]
        }
      ],
      "source": [
        "# Get a List of all multiples of three between 1 and 30:\n",
        "\n",
        "## Use an open for loop\n",
        "\n",
        "myList = []\n",
        "for i in range(1, 11):\n",
        "  myList.append(i * 3)\n",
        "print(myList)\n",
        "\n",
        "## Using a List Comprehension\n",
        "\n",
        "multiplesOf3 = [i*3 for i in range(1, 11)]\n",
        "print(multiplesOf3)"
      ]
    },
    {
      "cell_type": "code",
      "source": [
        "# Prints all odd numbers between 1 and 10:\n",
        "\n",
        "## Using a List Comprehension\n",
        "\n",
        "oddNumbers = [i for i in range(1, 11) if i % 2 != 0]\n",
        "print(oddNumbers)\n",
        "\n",
        "## Use an open for loop\n",
        "\n",
        "myList = []\n",
        "for i in range(1, 11):\n",
        "  if i % 2 != 0:\n",
        "    myList.append(i)\n",
        "print(myList)"
      ],
      "metadata": {
        "id": "5lrT0BwQsir4",
        "colab": {
          "base_uri": "https://localhost:8080/"
        },
        "outputId": "63196e6c-f640-4803-f1af-994f0d8f7a69"
      },
      "execution_count": 2,
      "outputs": [
        {
          "output_type": "stream",
          "name": "stdout",
          "text": [
            "[1, 3, 5, 7, 9]\n",
            "[1, 3, 5, 7, 9]\n"
          ]
        }
      ]
    },
    {
      "cell_type": "code",
      "source": [
        "# A list comprehension also accepts nested if statements:\n",
        "\n",
        "oddNumbers = [i for i in range(1, 11) if i%2!=0 if i<4]\n",
        "print(oddNumbers)"
      ],
      "metadata": {
        "colab": {
          "base_uri": "https://localhost:8080/"
        },
        "id": "Yw8oMfRetgpY",
        "outputId": "78fb259c-a95e-4450-ac39-833b234d85c4"
      },
      "execution_count": 8,
      "outputs": [
        {
          "output_type": "stream",
          "name": "stdout",
          "text": [
            "[1, 3]\n"
          ]
        }
      ]
    },
    {
      "cell_type": "code",
      "source": [
        "# It also takes a nested for loop:\n",
        "\n",
        "someNums = [i*2 for i in range(1, 3) for _ in range(4)]\n",
        "print(someNums)"
      ],
      "metadata": {
        "colab": {
          "base_uri": "https://localhost:8080/"
        },
        "id": "VZ882Qpsukds",
        "outputId": "0d821eaf-455e-4b31-8b40-dd0ffe65c2f5"
      },
      "execution_count": 9,
      "outputs": [
        {
          "output_type": "stream",
          "name": "stdout",
          "text": [
            "[2, 2, 2, 2, 4, 4, 4, 4]\n"
          ]
        }
      ]
    },
    {
      "cell_type": "code",
      "source": [
        "# You can also have a plain nested for loop in a list comprehension:\n",
        "\n",
        "someNums = [i*2 for i in range(1, 3) for k in range(4)]\n",
        "print(someNums)"
      ],
      "metadata": {
        "colab": {
          "base_uri": "https://localhost:8080/"
        },
        "id": "aKn6H-Kgu9IZ",
        "outputId": "b5bc6408-d356-4dd7-ebfe-d7c4394277ba"
      },
      "execution_count": 11,
      "outputs": [
        {
          "output_type": "stream",
          "name": "stdout",
          "text": [
            "[2, 2, 2, 2, 4, 4, 4, 4]\n"
          ]
        }
      ]
    },
    {
      "cell_type": "code",
      "source": [
        "# You can manipulate strings with Python list comprehension\n",
        "\n",
        "word = [\"This is a python list comprehension tutorial.\"]\n",
        "wordCounter = [i.count(' ') + 1 for i in word]\n",
        "print(wordCounter)"
      ],
      "metadata": {
        "colab": {
          "base_uri": "https://localhost:8080/"
        },
        "id": "6I0X2BkZvdl-",
        "outputId": "26d68939-d537-499a-a184-b47667987845"
      },
      "execution_count": 13,
      "outputs": [
        {
          "output_type": "stream",
          "name": "stdout",
          "text": [
            "[7]\n"
          ]
        }
      ]
    },
    {
      "cell_type": "code",
      "source": [
        "# A list comprehension can also accept a function that performs a specific operation.\n",
        "\n",
        "Numbers = [4, 7, 8, 15, 17, 10]\n",
        "\n",
        "def multiplier(n):\n",
        "  multiple = n*2\n",
        "  return multiple\n",
        "\n",
        "multipleEven = [multiplier(i) for i in Numbers if i%2==0]\n",
        "print(multipleEven)"
      ],
      "metadata": {
        "colab": {
          "base_uri": "https://localhost:8080/"
        },
        "id": "h1EI4tDOv_tk",
        "outputId": "e1144e19-a127-429c-bde0-c6eb551848b7"
      },
      "execution_count": 14,
      "outputs": [
        {
          "output_type": "stream",
          "name": "stdout",
          "text": [
            "[8, 16, 20]\n"
          ]
        }
      ]
    },
    {
      "cell_type": "code",
      "source": [
        "# Modify the comprehension above to generate even numbers from odd ones:\n",
        "\n",
        "multipleEvenFromOdds = [multiplier(i) for i in Numbers if i%2!=0]\n",
        "print(multipleEvenFromOdds)"
      ],
      "metadata": {
        "colab": {
          "base_uri": "https://localhost:8080/"
        },
        "id": "H_Qnrg9Bwopv",
        "outputId": "aa7bb803-e59c-498a-db41-1a6a88e38fb6"
      },
      "execution_count": 15,
      "outputs": [
        {
          "output_type": "stream",
          "name": "stdout",
          "text": [
            "[14, 30, 34]\n"
          ]
        }
      ]
    },
    {
      "cell_type": "markdown",
      "source": [
        "### Dictionary and Set Comprehensions"
      ],
      "metadata": {
        "id": "mXbm8RwdxQyT"
      }
    },
    {
      "cell_type": "code",
      "source": [
        "# Dictionary comprehension\n",
        "\n",
        "corr = {i: i*2 for i in range(10) if i%2!=0}\n",
        "print(corr)"
      ],
      "metadata": {
        "colab": {
          "base_uri": "https://localhost:8080/"
        },
        "id": "Dz4JfPhxxK-M",
        "outputId": "4a750543-9a1e-479a-bd43-b50c96187c2b"
      },
      "execution_count": 18,
      "outputs": [
        {
          "output_type": "stream",
          "name": "stdout",
          "text": [
            "{1: 2, 3: 6, 5: 10, 7: 14, 9: 18}\n"
          ]
        }
      ]
    },
    {
      "cell_type": "code",
      "source": [
        "# Set comprehension\n",
        "\n",
        "numbers = {i**(2) for i in range(10) if i%4==0}\n",
        "print(numbers)"
      ],
      "metadata": {
        "colab": {
          "base_uri": "https://localhost:8080/"
        },
        "id": "DmRKBkUsxwaY",
        "outputId": "a56f8a5a-ef5a-489b-a0d3-8d8538f80d16"
      },
      "execution_count": 19,
      "outputs": [
        {
          "output_type": "stream",
          "name": "stdout",
          "text": [
            "{0, 16, 64}\n"
          ]
        }
      ]
    },
    {
      "cell_type": "code",
      "source": [
        "# However, unlike list comprehension, set comprehension removes duplicates:\n",
        "\n",
        "nums = {i for i in range(20) if i%2==1 for k in range(4) if k%2==1}\n",
        "print(nums)\n",
        "\n",
        "numl = [i for i in range(20) if i%2==1 for k in range(4) if k%2==1]\n",
        "print(numl)"
      ],
      "metadata": {
        "colab": {
          "base_uri": "https://localhost:8080/"
        },
        "id": "JBCcrmJfyXsa",
        "outputId": "fd8d5b82-b62d-4587-f70d-1cbd85339666"
      },
      "execution_count": 23,
      "outputs": [
        {
          "output_type": "stream",
          "name": "stdout",
          "text": [
            "{1, 3, 5, 7, 9, 11, 13, 15, 17, 19}\n",
            "[1, 1, 3, 3, 5, 5, 7, 7, 9, 9, 11, 11, 13, 13, 15, 15, 17, 17, 19, 19]\n"
          ]
        }
      ]
    },
    {
      "cell_type": "code",
      "source": [],
      "metadata": {
        "id": "zfyxWMA2y4Fu"
      },
      "execution_count": null,
      "outputs": []
    }
  ]
}